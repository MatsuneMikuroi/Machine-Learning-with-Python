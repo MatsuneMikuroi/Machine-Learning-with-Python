{
 "cells": [
  {
   "cell_type": "markdown",
   "id": "5e6760be-ba27-4ed6-90b9-44c213b9a488",
   "metadata": {},
   "source": [
    "<p style=\"text-align:center\">\n",
    "    <a href=\"https://skills.network\" target=\"_blank\">\n",
    "    <img src=\"https://cf-courses-data.s3.us.cloud-object-storage.appdomain.cloud/assets/logos/SN_web_lightmode.png\" width=\"200\" alt=\"Skills Network Logo\">\n",
    "    </a>\n",
    "</p>\n",
    "\n",
    "\n",
    "# Decision Trees\n",
    "\n",
    "\n",
    "Estimated time needed: **25** minutes\n",
    "    \n",
    "\n",
    "## Objectives\n",
    "\n",
    "After completing this lab you will be able to:\n",
    "\n",
    "* Develop a classification model using Decision Tree Algorithm\n",
    "* Apply Decision Tree classification on a real world dataset.\n"
   ]
  },
  {
   "cell_type": "markdown",
   "id": "feba427f-0d0d-45e6-98e7-367da480c9d7",
   "metadata": {},
   "source": [
    "## Introduction\n",
    "\n",
    "This lab explores decision tree classification, a powerful machine learning technique for making data-driven decisions. You will learn to build, visualize, and evaluate decision trees using a real-world dataset. The dataset used in this lab is that of Drug prediction based on the health parameters of a patient.\n"
   ]
  },
  {
   "cell_type": "markdown",
   "id": "62235685-539e-4d44-bf1f-2ff8bcc46e48",
   "metadata": {},
   "source": [
    "### Importing Libraries\n",
    "First, to make sure that the required libraries are available, execute the cell below.\n"
   ]
  },
  {
   "cell_type": "code",
   "execution_count": 12,
   "id": "58fe23d6-2e73-4b59-878f-5046e4548693",
   "metadata": {},
   "outputs": [
    {
     "name": "stdout",
     "output_type": "stream",
     "text": [
      "Requirement already satisfied: numpy==2.2.0 in c:\\users\\romai\\appdata\\local\\programs\\python\\python313\\lib\\site-packages (2.2.0)\n",
      "Note: you may need to restart the kernel to use updated packages.\n",
      "Requirement already satisfied: pandas==2.2.3 in c:\\users\\romai\\appdata\\local\\programs\\python\\python313\\lib\\site-packages (2.2.3)\n",
      "Requirement already satisfied: numpy>=1.26.0 in c:\\users\\romai\\appdata\\local\\programs\\python\\python313\\lib\\site-packages (from pandas==2.2.3) (2.2.0)\n",
      "Requirement already satisfied: python-dateutil>=2.8.2 in c:\\users\\romai\\appdata\\local\\programs\\python\\python313\\lib\\site-packages (from pandas==2.2.3) (2.9.0.post0)\n",
      "Requirement already satisfied: pytz>=2020.1 in c:\\users\\romai\\appdata\\local\\programs\\python\\python313\\lib\\site-packages (from pandas==2.2.3) (2025.1)\n",
      "Requirement already satisfied: tzdata>=2022.7 in c:\\users\\romai\\appdata\\local\\programs\\python\\python313\\lib\\site-packages (from pandas==2.2.3) (2025.1)\n",
      "Requirement already satisfied: six>=1.5 in c:\\users\\romai\\appdata\\local\\programs\\python\\python313\\lib\\site-packages (from python-dateutil>=2.8.2->pandas==2.2.3) (1.17.0)\n",
      "Note: you may need to restart the kernel to use updated packages.\n",
      "Requirement already satisfied: scikit-learn==1.6.0 in c:\\users\\romai\\appdata\\local\\programs\\python\\python313\\lib\\site-packages (1.6.0)\n",
      "Requirement already satisfied: numpy>=1.19.5 in c:\\users\\romai\\appdata\\local\\programs\\python\\python313\\lib\\site-packages (from scikit-learn==1.6.0) (2.2.0)\n",
      "Requirement already satisfied: scipy>=1.6.0 in c:\\users\\romai\\appdata\\local\\programs\\python\\python313\\lib\\site-packages (from scikit-learn==1.6.0) (1.15.2)\n",
      "Requirement already satisfied: joblib>=1.2.0 in c:\\users\\romai\\appdata\\local\\programs\\python\\python313\\lib\\site-packages (from scikit-learn==1.6.0) (1.4.2)\n",
      "Requirement already satisfied: threadpoolctl>=3.1.0 in c:\\users\\romai\\appdata\\local\\programs\\python\\python313\\lib\\site-packages (from scikit-learn==1.6.0) (3.5.0)\n",
      "Note: you may need to restart the kernel to use updated packages.\n",
      "Requirement already satisfied: matplotlib==3.9.3 in c:\\users\\romai\\appdata\\local\\programs\\python\\python313\\lib\\site-packages (3.9.3)\n",
      "Requirement already satisfied: contourpy>=1.0.1 in c:\\users\\romai\\appdata\\local\\programs\\python\\python313\\lib\\site-packages (from matplotlib==3.9.3) (1.3.1)\n",
      "Requirement already satisfied: cycler>=0.10 in c:\\users\\romai\\appdata\\local\\programs\\python\\python313\\lib\\site-packages (from matplotlib==3.9.3) (0.12.1)\n",
      "Requirement already satisfied: fonttools>=4.22.0 in c:\\users\\romai\\appdata\\local\\programs\\python\\python313\\lib\\site-packages (from matplotlib==3.9.3) (4.56.0)\n",
      "Requirement already satisfied: kiwisolver>=1.3.1 in c:\\users\\romai\\appdata\\local\\programs\\python\\python313\\lib\\site-packages (from matplotlib==3.9.3) (1.4.8)\n",
      "Requirement already satisfied: numpy>=1.23 in c:\\users\\romai\\appdata\\local\\programs\\python\\python313\\lib\\site-packages (from matplotlib==3.9.3) (2.2.0)\n",
      "Requirement already satisfied: packaging>=20.0 in c:\\users\\romai\\appdata\\local\\programs\\python\\python313\\lib\\site-packages (from matplotlib==3.9.3) (24.2)\n",
      "Requirement already satisfied: pillow>=8 in c:\\users\\romai\\appdata\\local\\programs\\python\\python313\\lib\\site-packages (from matplotlib==3.9.3) (11.1.0)\n",
      "Requirement already satisfied: pyparsing>=2.3.1 in c:\\users\\romai\\appdata\\local\\programs\\python\\python313\\lib\\site-packages (from matplotlib==3.9.3) (3.2.1)\n",
      "Requirement already satisfied: python-dateutil>=2.7 in c:\\users\\romai\\appdata\\local\\programs\\python\\python313\\lib\\site-packages (from matplotlib==3.9.3) (2.9.0.post0)\n",
      "Requirement already satisfied: six>=1.5 in c:\\users\\romai\\appdata\\local\\programs\\python\\python313\\lib\\site-packages (from python-dateutil>=2.7->matplotlib==3.9.3) (1.17.0)\n",
      "Note: you may need to restart the kernel to use updated packages.\n"
     ]
    }
   ],
   "source": [
    "%pip install numpy==2.2.0\n",
    "%pip install pandas==2.2.3\n",
    "%pip install scikit-learn==1.6.0\n",
    "%pip install matplotlib==3.9.3"
   ]
  },
  {
   "cell_type": "markdown",
   "id": "1141e40b-fe78-4377-a10e-31fb63e47150",
   "metadata": {},
   "source": [
    "Now import the required libraries for this lab.\n"
   ]
  },
  {
   "cell_type": "code",
   "execution_count": 13,
   "id": "965c5dac-dadf-4cce-9565-6eab634093b1",
   "metadata": {},
   "outputs": [],
   "source": [
    "import numpy as np \n",
    "import pandas as pd\n",
    "from matplotlib import pyplot as plt\n",
    "from sklearn.preprocessing import LabelEncoder\n",
    "from sklearn.model_selection import train_test_split\n",
    "from sklearn.tree import DecisionTreeClassifier, plot_tree\n",
    "from sklearn import metrics\n",
    "\n",
    "%matplotlib inline\n",
    "\n",
    "import warnings\n",
    "warnings.filterwarnings('ignore')"
   ]
  },
  {
   "cell_type": "markdown",
   "id": "b5ba9e12-ab54-40c9-8375-24d8e1330e44",
   "metadata": {},
   "source": [
    "### About the dataset\n",
    "Imagine that you are a medical researcher compiling data for a study. You have collected data about a set of patients, all of whom suffered from the same illness. During their course of treatment, each patient responded to one of 5 medications, Drug A, Drug B, Drug C, Drug X and Drug Y. \n",
    "\n",
    "Part of your job is to build a model to find out which drug might be appropriate for a future patient with the same illness. The features of this dataset are the Age, Sex, Blood Pressure, and Cholesterol of the patients, and the target is the drug that each patient responded to.\n",
    "\n",
    "It is a sample of a multiclass classifier, and you can use the training part of the dataset to build a decision tree, and then use it to predict the class of an unknown patient or to prescribe a drug to a new patient.\n"
   ]
  },
  {
   "cell_type": "markdown",
   "id": "2ed69ba7-a7f0-451d-89f9-f97de942799b",
   "metadata": {},
   "source": [
    "<div id=\"downloading_data\"> \n",
    "    <h2>Downloading the Data</h2>\n",
    "    To download the data, we will use !wget to download it from IBM Object Storage.\n",
    "</div>\n"
   ]
  },
  {
   "cell_type": "code",
   "execution_count": 14,
   "id": "fa027850-b06c-4ae9-9cbd-817a4b3d1a2a",
   "metadata": {},
   "outputs": [
    {
     "data": {
      "application/vnd.microsoft.datawrangler.viewer.v0+json": {
       "columns": [
        {
         "name": "index",
         "rawType": "int64",
         "type": "integer"
        },
        {
         "name": "Age",
         "rawType": "int64",
         "type": "integer"
        },
        {
         "name": "Sex",
         "rawType": "object",
         "type": "string"
        },
        {
         "name": "BP",
         "rawType": "object",
         "type": "string"
        },
        {
         "name": "Cholesterol",
         "rawType": "object",
         "type": "string"
        },
        {
         "name": "Na_to_K",
         "rawType": "float64",
         "type": "float"
        },
        {
         "name": "Drug",
         "rawType": "object",
         "type": "string"
        }
       ],
       "conversionMethod": "pd.DataFrame",
       "ref": "0bb936b6-e1d9-415e-88d9-33dc7b4501cd",
       "rows": [
        [
         "0",
         "23",
         "F",
         "HIGH",
         "HIGH",
         "25.355",
         "drugY"
        ],
        [
         "1",
         "47",
         "M",
         "LOW",
         "HIGH",
         "13.093",
         "drugC"
        ],
        [
         "2",
         "47",
         "M",
         "LOW",
         "HIGH",
         "10.114",
         "drugC"
        ],
        [
         "3",
         "28",
         "F",
         "NORMAL",
         "HIGH",
         "7.798",
         "drugX"
        ],
        [
         "4",
         "61",
         "F",
         "LOW",
         "HIGH",
         "18.043",
         "drugY"
        ],
        [
         "5",
         "22",
         "F",
         "NORMAL",
         "HIGH",
         "8.607",
         "drugX"
        ],
        [
         "6",
         "49",
         "F",
         "NORMAL",
         "HIGH",
         "16.275",
         "drugY"
        ],
        [
         "7",
         "41",
         "M",
         "LOW",
         "HIGH",
         "11.037",
         "drugC"
        ],
        [
         "8",
         "60",
         "M",
         "NORMAL",
         "HIGH",
         "15.171",
         "drugY"
        ],
        [
         "9",
         "43",
         "M",
         "LOW",
         "NORMAL",
         "19.368",
         "drugY"
        ],
        [
         "10",
         "47",
         "F",
         "LOW",
         "HIGH",
         "11.767",
         "drugC"
        ],
        [
         "11",
         "34",
         "F",
         "HIGH",
         "NORMAL",
         "19.199",
         "drugY"
        ],
        [
         "12",
         "43",
         "M",
         "LOW",
         "HIGH",
         "15.376",
         "drugY"
        ],
        [
         "13",
         "74",
         "F",
         "LOW",
         "HIGH",
         "20.942",
         "drugY"
        ],
        [
         "14",
         "50",
         "F",
         "NORMAL",
         "HIGH",
         "12.703",
         "drugX"
        ],
        [
         "15",
         "16",
         "F",
         "HIGH",
         "NORMAL",
         "15.516",
         "drugY"
        ],
        [
         "16",
         "69",
         "M",
         "LOW",
         "NORMAL",
         "11.455",
         "drugX"
        ],
        [
         "17",
         "43",
         "M",
         "HIGH",
         "HIGH",
         "13.972",
         "drugA"
        ],
        [
         "18",
         "23",
         "M",
         "LOW",
         "HIGH",
         "7.298",
         "drugC"
        ],
        [
         "19",
         "32",
         "F",
         "HIGH",
         "NORMAL",
         "25.974",
         "drugY"
        ],
        [
         "20",
         "57",
         "M",
         "LOW",
         "NORMAL",
         "19.128",
         "drugY"
        ],
        [
         "21",
         "63",
         "M",
         "NORMAL",
         "HIGH",
         "25.917",
         "drugY"
        ],
        [
         "22",
         "47",
         "M",
         "LOW",
         "NORMAL",
         "30.568",
         "drugY"
        ],
        [
         "23",
         "48",
         "F",
         "LOW",
         "HIGH",
         "15.036",
         "drugY"
        ],
        [
         "24",
         "33",
         "F",
         "LOW",
         "HIGH",
         "33.486",
         "drugY"
        ],
        [
         "25",
         "28",
         "F",
         "HIGH",
         "NORMAL",
         "18.809",
         "drugY"
        ],
        [
         "26",
         "31",
         "M",
         "HIGH",
         "HIGH",
         "30.366",
         "drugY"
        ],
        [
         "27",
         "49",
         "F",
         "NORMAL",
         "NORMAL",
         "9.381",
         "drugX"
        ],
        [
         "28",
         "39",
         "F",
         "LOW",
         "NORMAL",
         "22.697",
         "drugY"
        ],
        [
         "29",
         "45",
         "M",
         "LOW",
         "HIGH",
         "17.951",
         "drugY"
        ],
        [
         "30",
         "18",
         "F",
         "NORMAL",
         "NORMAL",
         "8.75",
         "drugX"
        ],
        [
         "31",
         "74",
         "M",
         "HIGH",
         "HIGH",
         "9.567",
         "drugB"
        ],
        [
         "32",
         "49",
         "M",
         "LOW",
         "NORMAL",
         "11.014",
         "drugX"
        ],
        [
         "33",
         "65",
         "F",
         "HIGH",
         "NORMAL",
         "31.876",
         "drugY"
        ],
        [
         "34",
         "53",
         "M",
         "NORMAL",
         "HIGH",
         "14.133",
         "drugX"
        ],
        [
         "35",
         "46",
         "M",
         "NORMAL",
         "NORMAL",
         "7.285",
         "drugX"
        ],
        [
         "36",
         "32",
         "M",
         "HIGH",
         "NORMAL",
         "9.445",
         "drugA"
        ],
        [
         "37",
         "39",
         "M",
         "LOW",
         "NORMAL",
         "13.938",
         "drugX"
        ],
        [
         "38",
         "39",
         "F",
         "NORMAL",
         "NORMAL",
         "9.709",
         "drugX"
        ],
        [
         "39",
         "15",
         "M",
         "NORMAL",
         "HIGH",
         "9.084",
         "drugX"
        ],
        [
         "40",
         "73",
         "F",
         "NORMAL",
         "HIGH",
         "19.221",
         "drugY"
        ],
        [
         "41",
         "58",
         "F",
         "HIGH",
         "NORMAL",
         "14.239",
         "drugB"
        ],
        [
         "42",
         "50",
         "M",
         "NORMAL",
         "NORMAL",
         "15.79",
         "drugY"
        ],
        [
         "43",
         "23",
         "M",
         "NORMAL",
         "HIGH",
         "12.26",
         "drugX"
        ],
        [
         "44",
         "50",
         "F",
         "NORMAL",
         "NORMAL",
         "12.295",
         "drugX"
        ],
        [
         "45",
         "66",
         "F",
         "NORMAL",
         "NORMAL",
         "8.107",
         "drugX"
        ],
        [
         "46",
         "37",
         "F",
         "HIGH",
         "HIGH",
         "13.091",
         "drugA"
        ],
        [
         "47",
         "68",
         "M",
         "LOW",
         "HIGH",
         "10.291",
         "drugC"
        ],
        [
         "48",
         "23",
         "M",
         "NORMAL",
         "HIGH",
         "31.686",
         "drugY"
        ],
        [
         "49",
         "28",
         "F",
         "LOW",
         "HIGH",
         "19.796",
         "drugY"
        ]
       ],
       "shape": {
        "columns": 6,
        "rows": 200
       }
      },
      "text/html": [
       "<div>\n",
       "<style scoped>\n",
       "    .dataframe tbody tr th:only-of-type {\n",
       "        vertical-align: middle;\n",
       "    }\n",
       "\n",
       "    .dataframe tbody tr th {\n",
       "        vertical-align: top;\n",
       "    }\n",
       "\n",
       "    .dataframe thead th {\n",
       "        text-align: right;\n",
       "    }\n",
       "</style>\n",
       "<table border=\"1\" class=\"dataframe\">\n",
       "  <thead>\n",
       "    <tr style=\"text-align: right;\">\n",
       "      <th></th>\n",
       "      <th>Age</th>\n",
       "      <th>Sex</th>\n",
       "      <th>BP</th>\n",
       "      <th>Cholesterol</th>\n",
       "      <th>Na_to_K</th>\n",
       "      <th>Drug</th>\n",
       "    </tr>\n",
       "  </thead>\n",
       "  <tbody>\n",
       "    <tr>\n",
       "      <th>0</th>\n",
       "      <td>23</td>\n",
       "      <td>F</td>\n",
       "      <td>HIGH</td>\n",
       "      <td>HIGH</td>\n",
       "      <td>25.355</td>\n",
       "      <td>drugY</td>\n",
       "    </tr>\n",
       "    <tr>\n",
       "      <th>1</th>\n",
       "      <td>47</td>\n",
       "      <td>M</td>\n",
       "      <td>LOW</td>\n",
       "      <td>HIGH</td>\n",
       "      <td>13.093</td>\n",
       "      <td>drugC</td>\n",
       "    </tr>\n",
       "    <tr>\n",
       "      <th>2</th>\n",
       "      <td>47</td>\n",
       "      <td>M</td>\n",
       "      <td>LOW</td>\n",
       "      <td>HIGH</td>\n",
       "      <td>10.114</td>\n",
       "      <td>drugC</td>\n",
       "    </tr>\n",
       "    <tr>\n",
       "      <th>3</th>\n",
       "      <td>28</td>\n",
       "      <td>F</td>\n",
       "      <td>NORMAL</td>\n",
       "      <td>HIGH</td>\n",
       "      <td>7.798</td>\n",
       "      <td>drugX</td>\n",
       "    </tr>\n",
       "    <tr>\n",
       "      <th>4</th>\n",
       "      <td>61</td>\n",
       "      <td>F</td>\n",
       "      <td>LOW</td>\n",
       "      <td>HIGH</td>\n",
       "      <td>18.043</td>\n",
       "      <td>drugY</td>\n",
       "    </tr>\n",
       "    <tr>\n",
       "      <th>...</th>\n",
       "      <td>...</td>\n",
       "      <td>...</td>\n",
       "      <td>...</td>\n",
       "      <td>...</td>\n",
       "      <td>...</td>\n",
       "      <td>...</td>\n",
       "    </tr>\n",
       "    <tr>\n",
       "      <th>195</th>\n",
       "      <td>56</td>\n",
       "      <td>F</td>\n",
       "      <td>LOW</td>\n",
       "      <td>HIGH</td>\n",
       "      <td>11.567</td>\n",
       "      <td>drugC</td>\n",
       "    </tr>\n",
       "    <tr>\n",
       "      <th>196</th>\n",
       "      <td>16</td>\n",
       "      <td>M</td>\n",
       "      <td>LOW</td>\n",
       "      <td>HIGH</td>\n",
       "      <td>12.006</td>\n",
       "      <td>drugC</td>\n",
       "    </tr>\n",
       "    <tr>\n",
       "      <th>197</th>\n",
       "      <td>52</td>\n",
       "      <td>M</td>\n",
       "      <td>NORMAL</td>\n",
       "      <td>HIGH</td>\n",
       "      <td>9.894</td>\n",
       "      <td>drugX</td>\n",
       "    </tr>\n",
       "    <tr>\n",
       "      <th>198</th>\n",
       "      <td>23</td>\n",
       "      <td>M</td>\n",
       "      <td>NORMAL</td>\n",
       "      <td>NORMAL</td>\n",
       "      <td>14.020</td>\n",
       "      <td>drugX</td>\n",
       "    </tr>\n",
       "    <tr>\n",
       "      <th>199</th>\n",
       "      <td>40</td>\n",
       "      <td>F</td>\n",
       "      <td>LOW</td>\n",
       "      <td>NORMAL</td>\n",
       "      <td>11.349</td>\n",
       "      <td>drugX</td>\n",
       "    </tr>\n",
       "  </tbody>\n",
       "</table>\n",
       "<p>200 rows × 6 columns</p>\n",
       "</div>"
      ],
      "text/plain": [
       "     Age Sex      BP Cholesterol  Na_to_K   Drug\n",
       "0     23   F    HIGH        HIGH   25.355  drugY\n",
       "1     47   M     LOW        HIGH   13.093  drugC\n",
       "2     47   M     LOW        HIGH   10.114  drugC\n",
       "3     28   F  NORMAL        HIGH    7.798  drugX\n",
       "4     61   F     LOW        HIGH   18.043  drugY\n",
       "..   ...  ..     ...         ...      ...    ...\n",
       "195   56   F     LOW        HIGH   11.567  drugC\n",
       "196   16   M     LOW        HIGH   12.006  drugC\n",
       "197   52   M  NORMAL        HIGH    9.894  drugX\n",
       "198   23   M  NORMAL      NORMAL   14.020  drugX\n",
       "199   40   F     LOW      NORMAL   11.349  drugX\n",
       "\n",
       "[200 rows x 6 columns]"
      ]
     },
     "execution_count": 14,
     "metadata": {},
     "output_type": "execute_result"
    }
   ],
   "source": [
    "path= 'https://cf-courses-data.s3.us.cloud-object-storage.appdomain.cloud/IBMDeveloperSkillsNetwork-ML0101EN-SkillsNetwork/labs/Module%203/data/drug200.csv'\n",
    "my_data = pd.read_csv(path)\n",
    "my_data"
   ]
  },
  {
   "cell_type": "markdown",
   "id": "1a62c2ba-9025-4eaa-8b4a-7c2dd18eddf3",
   "metadata": {},
   "source": [
    "## Data Analysis and pre-processing\n",
    "You should apply some basic analytics steps to understand the data better. First, let us gather some basic information about the dataset. \n"
   ]
  },
  {
   "cell_type": "code",
   "execution_count": 15,
   "id": "370bca2e-b7d6-458a-bb32-0a4653e4dd68",
   "metadata": {},
   "outputs": [
    {
     "name": "stdout",
     "output_type": "stream",
     "text": [
      "<class 'pandas.core.frame.DataFrame'>\n",
      "RangeIndex: 200 entries, 0 to 199\n",
      "Data columns (total 6 columns):\n",
      " #   Column       Non-Null Count  Dtype  \n",
      "---  ------       --------------  -----  \n",
      " 0   Age          200 non-null    int64  \n",
      " 1   Sex          200 non-null    object \n",
      " 2   BP           200 non-null    object \n",
      " 3   Cholesterol  200 non-null    object \n",
      " 4   Na_to_K      200 non-null    float64\n",
      " 5   Drug         200 non-null    object \n",
      "dtypes: float64(1), int64(1), object(4)\n",
      "memory usage: 9.5+ KB\n"
     ]
    }
   ],
   "source": [
    "my_data.info()"
   ]
  },
  {
   "cell_type": "markdown",
   "id": "eb80c777-3974-4d7e-97c2-1d4659b60f1a",
   "metadata": {},
   "source": [
    "This tells us that 4 out of the 6 features of this dataset are categorical, which will have to be converted into numerical ones to be used for modeling. For this, we can make use of __LabelEncoder__ from the Scikit-Learn library.\n"
   ]
  },
  {
   "cell_type": "code",
   "execution_count": 16,
   "id": "a9fbb034-1dca-4926-aa93-4b9f6b2e29c2",
   "metadata": {},
   "outputs": [
    {
     "data": {
      "application/vnd.microsoft.datawrangler.viewer.v0+json": {
       "columns": [
        {
         "name": "index",
         "rawType": "int64",
         "type": "integer"
        },
        {
         "name": "Age",
         "rawType": "int64",
         "type": "integer"
        },
        {
         "name": "Sex",
         "rawType": "int64",
         "type": "integer"
        },
        {
         "name": "BP",
         "rawType": "int64",
         "type": "integer"
        },
        {
         "name": "Cholesterol",
         "rawType": "int64",
         "type": "integer"
        },
        {
         "name": "Na_to_K",
         "rawType": "float64",
         "type": "float"
        },
        {
         "name": "Drug",
         "rawType": "object",
         "type": "string"
        }
       ],
       "conversionMethod": "pd.DataFrame",
       "ref": "b40e4378-7606-419c-8652-a83dcf968617",
       "rows": [
        [
         "0",
         "23",
         "0",
         "0",
         "0",
         "25.355",
         "drugY"
        ],
        [
         "1",
         "47",
         "1",
         "1",
         "0",
         "13.093",
         "drugC"
        ],
        [
         "2",
         "47",
         "1",
         "1",
         "0",
         "10.114",
         "drugC"
        ],
        [
         "3",
         "28",
         "0",
         "2",
         "0",
         "7.798",
         "drugX"
        ],
        [
         "4",
         "61",
         "0",
         "1",
         "0",
         "18.043",
         "drugY"
        ],
        [
         "5",
         "22",
         "0",
         "2",
         "0",
         "8.607",
         "drugX"
        ],
        [
         "6",
         "49",
         "0",
         "2",
         "0",
         "16.275",
         "drugY"
        ],
        [
         "7",
         "41",
         "1",
         "1",
         "0",
         "11.037",
         "drugC"
        ],
        [
         "8",
         "60",
         "1",
         "2",
         "0",
         "15.171",
         "drugY"
        ],
        [
         "9",
         "43",
         "1",
         "1",
         "1",
         "19.368",
         "drugY"
        ],
        [
         "10",
         "47",
         "0",
         "1",
         "0",
         "11.767",
         "drugC"
        ],
        [
         "11",
         "34",
         "0",
         "0",
         "1",
         "19.199",
         "drugY"
        ],
        [
         "12",
         "43",
         "1",
         "1",
         "0",
         "15.376",
         "drugY"
        ],
        [
         "13",
         "74",
         "0",
         "1",
         "0",
         "20.942",
         "drugY"
        ],
        [
         "14",
         "50",
         "0",
         "2",
         "0",
         "12.703",
         "drugX"
        ],
        [
         "15",
         "16",
         "0",
         "0",
         "1",
         "15.516",
         "drugY"
        ],
        [
         "16",
         "69",
         "1",
         "1",
         "1",
         "11.455",
         "drugX"
        ],
        [
         "17",
         "43",
         "1",
         "0",
         "0",
         "13.972",
         "drugA"
        ],
        [
         "18",
         "23",
         "1",
         "1",
         "0",
         "7.298",
         "drugC"
        ],
        [
         "19",
         "32",
         "0",
         "0",
         "1",
         "25.974",
         "drugY"
        ],
        [
         "20",
         "57",
         "1",
         "1",
         "1",
         "19.128",
         "drugY"
        ],
        [
         "21",
         "63",
         "1",
         "2",
         "0",
         "25.917",
         "drugY"
        ],
        [
         "22",
         "47",
         "1",
         "1",
         "1",
         "30.568",
         "drugY"
        ],
        [
         "23",
         "48",
         "0",
         "1",
         "0",
         "15.036",
         "drugY"
        ],
        [
         "24",
         "33",
         "0",
         "1",
         "0",
         "33.486",
         "drugY"
        ],
        [
         "25",
         "28",
         "0",
         "0",
         "1",
         "18.809",
         "drugY"
        ],
        [
         "26",
         "31",
         "1",
         "0",
         "0",
         "30.366",
         "drugY"
        ],
        [
         "27",
         "49",
         "0",
         "2",
         "1",
         "9.381",
         "drugX"
        ],
        [
         "28",
         "39",
         "0",
         "1",
         "1",
         "22.697",
         "drugY"
        ],
        [
         "29",
         "45",
         "1",
         "1",
         "0",
         "17.951",
         "drugY"
        ],
        [
         "30",
         "18",
         "0",
         "2",
         "1",
         "8.75",
         "drugX"
        ],
        [
         "31",
         "74",
         "1",
         "0",
         "0",
         "9.567",
         "drugB"
        ],
        [
         "32",
         "49",
         "1",
         "1",
         "1",
         "11.014",
         "drugX"
        ],
        [
         "33",
         "65",
         "0",
         "0",
         "1",
         "31.876",
         "drugY"
        ],
        [
         "34",
         "53",
         "1",
         "2",
         "0",
         "14.133",
         "drugX"
        ],
        [
         "35",
         "46",
         "1",
         "2",
         "1",
         "7.285",
         "drugX"
        ],
        [
         "36",
         "32",
         "1",
         "0",
         "1",
         "9.445",
         "drugA"
        ],
        [
         "37",
         "39",
         "1",
         "1",
         "1",
         "13.938",
         "drugX"
        ],
        [
         "38",
         "39",
         "0",
         "2",
         "1",
         "9.709",
         "drugX"
        ],
        [
         "39",
         "15",
         "1",
         "2",
         "0",
         "9.084",
         "drugX"
        ],
        [
         "40",
         "73",
         "0",
         "2",
         "0",
         "19.221",
         "drugY"
        ],
        [
         "41",
         "58",
         "0",
         "0",
         "1",
         "14.239",
         "drugB"
        ],
        [
         "42",
         "50",
         "1",
         "2",
         "1",
         "15.79",
         "drugY"
        ],
        [
         "43",
         "23",
         "1",
         "2",
         "0",
         "12.26",
         "drugX"
        ],
        [
         "44",
         "50",
         "0",
         "2",
         "1",
         "12.295",
         "drugX"
        ],
        [
         "45",
         "66",
         "0",
         "2",
         "1",
         "8.107",
         "drugX"
        ],
        [
         "46",
         "37",
         "0",
         "0",
         "0",
         "13.091",
         "drugA"
        ],
        [
         "47",
         "68",
         "1",
         "1",
         "0",
         "10.291",
         "drugC"
        ],
        [
         "48",
         "23",
         "1",
         "2",
         "0",
         "31.686",
         "drugY"
        ],
        [
         "49",
         "28",
         "0",
         "1",
         "0",
         "19.796",
         "drugY"
        ]
       ],
       "shape": {
        "columns": 6,
        "rows": 200
       }
      },
      "text/html": [
       "<div>\n",
       "<style scoped>\n",
       "    .dataframe tbody tr th:only-of-type {\n",
       "        vertical-align: middle;\n",
       "    }\n",
       "\n",
       "    .dataframe tbody tr th {\n",
       "        vertical-align: top;\n",
       "    }\n",
       "\n",
       "    .dataframe thead th {\n",
       "        text-align: right;\n",
       "    }\n",
       "</style>\n",
       "<table border=\"1\" class=\"dataframe\">\n",
       "  <thead>\n",
       "    <tr style=\"text-align: right;\">\n",
       "      <th></th>\n",
       "      <th>Age</th>\n",
       "      <th>Sex</th>\n",
       "      <th>BP</th>\n",
       "      <th>Cholesterol</th>\n",
       "      <th>Na_to_K</th>\n",
       "      <th>Drug</th>\n",
       "    </tr>\n",
       "  </thead>\n",
       "  <tbody>\n",
       "    <tr>\n",
       "      <th>0</th>\n",
       "      <td>23</td>\n",
       "      <td>0</td>\n",
       "      <td>0</td>\n",
       "      <td>0</td>\n",
       "      <td>25.355</td>\n",
       "      <td>drugY</td>\n",
       "    </tr>\n",
       "    <tr>\n",
       "      <th>1</th>\n",
       "      <td>47</td>\n",
       "      <td>1</td>\n",
       "      <td>1</td>\n",
       "      <td>0</td>\n",
       "      <td>13.093</td>\n",
       "      <td>drugC</td>\n",
       "    </tr>\n",
       "    <tr>\n",
       "      <th>2</th>\n",
       "      <td>47</td>\n",
       "      <td>1</td>\n",
       "      <td>1</td>\n",
       "      <td>0</td>\n",
       "      <td>10.114</td>\n",
       "      <td>drugC</td>\n",
       "    </tr>\n",
       "    <tr>\n",
       "      <th>3</th>\n",
       "      <td>28</td>\n",
       "      <td>0</td>\n",
       "      <td>2</td>\n",
       "      <td>0</td>\n",
       "      <td>7.798</td>\n",
       "      <td>drugX</td>\n",
       "    </tr>\n",
       "    <tr>\n",
       "      <th>4</th>\n",
       "      <td>61</td>\n",
       "      <td>0</td>\n",
       "      <td>1</td>\n",
       "      <td>0</td>\n",
       "      <td>18.043</td>\n",
       "      <td>drugY</td>\n",
       "    </tr>\n",
       "    <tr>\n",
       "      <th>...</th>\n",
       "      <td>...</td>\n",
       "      <td>...</td>\n",
       "      <td>...</td>\n",
       "      <td>...</td>\n",
       "      <td>...</td>\n",
       "      <td>...</td>\n",
       "    </tr>\n",
       "    <tr>\n",
       "      <th>195</th>\n",
       "      <td>56</td>\n",
       "      <td>0</td>\n",
       "      <td>1</td>\n",
       "      <td>0</td>\n",
       "      <td>11.567</td>\n",
       "      <td>drugC</td>\n",
       "    </tr>\n",
       "    <tr>\n",
       "      <th>196</th>\n",
       "      <td>16</td>\n",
       "      <td>1</td>\n",
       "      <td>1</td>\n",
       "      <td>0</td>\n",
       "      <td>12.006</td>\n",
       "      <td>drugC</td>\n",
       "    </tr>\n",
       "    <tr>\n",
       "      <th>197</th>\n",
       "      <td>52</td>\n",
       "      <td>1</td>\n",
       "      <td>2</td>\n",
       "      <td>0</td>\n",
       "      <td>9.894</td>\n",
       "      <td>drugX</td>\n",
       "    </tr>\n",
       "    <tr>\n",
       "      <th>198</th>\n",
       "      <td>23</td>\n",
       "      <td>1</td>\n",
       "      <td>2</td>\n",
       "      <td>1</td>\n",
       "      <td>14.020</td>\n",
       "      <td>drugX</td>\n",
       "    </tr>\n",
       "    <tr>\n",
       "      <th>199</th>\n",
       "      <td>40</td>\n",
       "      <td>0</td>\n",
       "      <td>1</td>\n",
       "      <td>1</td>\n",
       "      <td>11.349</td>\n",
       "      <td>drugX</td>\n",
       "    </tr>\n",
       "  </tbody>\n",
       "</table>\n",
       "<p>200 rows × 6 columns</p>\n",
       "</div>"
      ],
      "text/plain": [
       "     Age  Sex  BP  Cholesterol  Na_to_K   Drug\n",
       "0     23    0   0            0   25.355  drugY\n",
       "1     47    1   1            0   13.093  drugC\n",
       "2     47    1   1            0   10.114  drugC\n",
       "3     28    0   2            0    7.798  drugX\n",
       "4     61    0   1            0   18.043  drugY\n",
       "..   ...  ...  ..          ...      ...    ...\n",
       "195   56    0   1            0   11.567  drugC\n",
       "196   16    1   1            0   12.006  drugC\n",
       "197   52    1   2            0    9.894  drugX\n",
       "198   23    1   2            1   14.020  drugX\n",
       "199   40    0   1            1   11.349  drugX\n",
       "\n",
       "[200 rows x 6 columns]"
      ]
     },
     "execution_count": 16,
     "metadata": {},
     "output_type": "execute_result"
    }
   ],
   "source": [
    "label_encoder = LabelEncoder()\n",
    "my_data['Sex'] = label_encoder.fit_transform(my_data['Sex']) \n",
    "my_data['BP'] = label_encoder.fit_transform(my_data['BP'])\n",
    "my_data['Cholesterol'] = label_encoder.fit_transform(my_data['Cholesterol']) \n",
    "my_data"
   ]
  },
  {
   "cell_type": "markdown",
   "id": "5d5930ac-d931-4ab1-8c6d-f900adbc4de9",
   "metadata": {},
   "source": [
    "With this, you now have 5 parameters that can be used for modeling and 1 feature as the target variable. \n",
    "We can see from comparison of the data before Label encoding and after it, to note the following mapping.\n",
    "<br>\n",
    "For parameter 'Sex' : $M \\rightarrow 1, F \\rightarrow 0$ <br>\n",
    "For parameter 'BP' : $High \\rightarrow 0, Low \\rightarrow 1, Normal \\rightarrow 2$<br>\n",
    "For parameter 'Cholesterol' : $High \\rightarrow 0, Normal \\rightarrow 1$\n"
   ]
  },
  {
   "cell_type": "markdown",
   "id": "66e526c8-cca5-4cce-909a-403c43b1ab18",
   "metadata": {},
   "source": [
    "You can also check if there are any missing values in the dataset. \n"
   ]
  },
  {
   "cell_type": "code",
   "execution_count": 17,
   "id": "99eec33e-ec62-49ac-940d-6854cc96ab94",
   "metadata": {},
   "outputs": [
    {
     "data": {
      "text/plain": [
       "Age            0\n",
       "Sex            0\n",
       "BP             0\n",
       "Cholesterol    0\n",
       "Na_to_K        0\n",
       "Drug           0\n",
       "dtype: int64"
      ]
     },
     "execution_count": 17,
     "metadata": {},
     "output_type": "execute_result"
    }
   ],
   "source": [
    "my_data.isnull().sum()"
   ]
  },
  {
   "cell_type": "markdown",
   "id": "80263897-4c84-4a4b-8ef7-fa22d96cbef4",
   "metadata": {},
   "source": [
    "This tells us that there are no missing values in any of the fields.\n"
   ]
  },
  {
   "cell_type": "markdown",
   "id": "913f9d12-9910-4a48-8223-6687dba68724",
   "metadata": {},
   "source": [
    "To evaluate the correlation of the target variable with the input features, it will be convenient to map the different drugs to a numerical value. Execute the following cell to achieve the same.\n"
   ]
  },
  {
   "cell_type": "code",
   "execution_count": 18,
   "id": "2d4031f4-c3b5-4b19-bcab-e88756a61cf5",
   "metadata": {},
   "outputs": [
    {
     "data": {
      "application/vnd.microsoft.datawrangler.viewer.v0+json": {
       "columns": [
        {
         "name": "index",
         "rawType": "int64",
         "type": "integer"
        },
        {
         "name": "Age",
         "rawType": "int64",
         "type": "integer"
        },
        {
         "name": "Sex",
         "rawType": "int64",
         "type": "integer"
        },
        {
         "name": "BP",
         "rawType": "int64",
         "type": "integer"
        },
        {
         "name": "Cholesterol",
         "rawType": "int64",
         "type": "integer"
        },
        {
         "name": "Na_to_K",
         "rawType": "float64",
         "type": "float"
        },
        {
         "name": "Drug",
         "rawType": "object",
         "type": "string"
        },
        {
         "name": "Drug_num",
         "rawType": "int64",
         "type": "integer"
        }
       ],
       "conversionMethod": "pd.DataFrame",
       "ref": "1d0c5c2c-48dd-4e4e-a71c-366b43898f58",
       "rows": [
        [
         "0",
         "23",
         "0",
         "0",
         "0",
         "25.355",
         "drugY",
         "4"
        ],
        [
         "1",
         "47",
         "1",
         "1",
         "0",
         "13.093",
         "drugC",
         "2"
        ],
        [
         "2",
         "47",
         "1",
         "1",
         "0",
         "10.114",
         "drugC",
         "2"
        ],
        [
         "3",
         "28",
         "0",
         "2",
         "0",
         "7.798",
         "drugX",
         "3"
        ],
        [
         "4",
         "61",
         "0",
         "1",
         "0",
         "18.043",
         "drugY",
         "4"
        ],
        [
         "5",
         "22",
         "0",
         "2",
         "0",
         "8.607",
         "drugX",
         "3"
        ],
        [
         "6",
         "49",
         "0",
         "2",
         "0",
         "16.275",
         "drugY",
         "4"
        ],
        [
         "7",
         "41",
         "1",
         "1",
         "0",
         "11.037",
         "drugC",
         "2"
        ],
        [
         "8",
         "60",
         "1",
         "2",
         "0",
         "15.171",
         "drugY",
         "4"
        ],
        [
         "9",
         "43",
         "1",
         "1",
         "1",
         "19.368",
         "drugY",
         "4"
        ],
        [
         "10",
         "47",
         "0",
         "1",
         "0",
         "11.767",
         "drugC",
         "2"
        ],
        [
         "11",
         "34",
         "0",
         "0",
         "1",
         "19.199",
         "drugY",
         "4"
        ],
        [
         "12",
         "43",
         "1",
         "1",
         "0",
         "15.376",
         "drugY",
         "4"
        ],
        [
         "13",
         "74",
         "0",
         "1",
         "0",
         "20.942",
         "drugY",
         "4"
        ],
        [
         "14",
         "50",
         "0",
         "2",
         "0",
         "12.703",
         "drugX",
         "3"
        ],
        [
         "15",
         "16",
         "0",
         "0",
         "1",
         "15.516",
         "drugY",
         "4"
        ],
        [
         "16",
         "69",
         "1",
         "1",
         "1",
         "11.455",
         "drugX",
         "3"
        ],
        [
         "17",
         "43",
         "1",
         "0",
         "0",
         "13.972",
         "drugA",
         "0"
        ],
        [
         "18",
         "23",
         "1",
         "1",
         "0",
         "7.298",
         "drugC",
         "2"
        ],
        [
         "19",
         "32",
         "0",
         "0",
         "1",
         "25.974",
         "drugY",
         "4"
        ],
        [
         "20",
         "57",
         "1",
         "1",
         "1",
         "19.128",
         "drugY",
         "4"
        ],
        [
         "21",
         "63",
         "1",
         "2",
         "0",
         "25.917",
         "drugY",
         "4"
        ],
        [
         "22",
         "47",
         "1",
         "1",
         "1",
         "30.568",
         "drugY",
         "4"
        ],
        [
         "23",
         "48",
         "0",
         "1",
         "0",
         "15.036",
         "drugY",
         "4"
        ],
        [
         "24",
         "33",
         "0",
         "1",
         "0",
         "33.486",
         "drugY",
         "4"
        ],
        [
         "25",
         "28",
         "0",
         "0",
         "1",
         "18.809",
         "drugY",
         "4"
        ],
        [
         "26",
         "31",
         "1",
         "0",
         "0",
         "30.366",
         "drugY",
         "4"
        ],
        [
         "27",
         "49",
         "0",
         "2",
         "1",
         "9.381",
         "drugX",
         "3"
        ],
        [
         "28",
         "39",
         "0",
         "1",
         "1",
         "22.697",
         "drugY",
         "4"
        ],
        [
         "29",
         "45",
         "1",
         "1",
         "0",
         "17.951",
         "drugY",
         "4"
        ],
        [
         "30",
         "18",
         "0",
         "2",
         "1",
         "8.75",
         "drugX",
         "3"
        ],
        [
         "31",
         "74",
         "1",
         "0",
         "0",
         "9.567",
         "drugB",
         "1"
        ],
        [
         "32",
         "49",
         "1",
         "1",
         "1",
         "11.014",
         "drugX",
         "3"
        ],
        [
         "33",
         "65",
         "0",
         "0",
         "1",
         "31.876",
         "drugY",
         "4"
        ],
        [
         "34",
         "53",
         "1",
         "2",
         "0",
         "14.133",
         "drugX",
         "3"
        ],
        [
         "35",
         "46",
         "1",
         "2",
         "1",
         "7.285",
         "drugX",
         "3"
        ],
        [
         "36",
         "32",
         "1",
         "0",
         "1",
         "9.445",
         "drugA",
         "0"
        ],
        [
         "37",
         "39",
         "1",
         "1",
         "1",
         "13.938",
         "drugX",
         "3"
        ],
        [
         "38",
         "39",
         "0",
         "2",
         "1",
         "9.709",
         "drugX",
         "3"
        ],
        [
         "39",
         "15",
         "1",
         "2",
         "0",
         "9.084",
         "drugX",
         "3"
        ],
        [
         "40",
         "73",
         "0",
         "2",
         "0",
         "19.221",
         "drugY",
         "4"
        ],
        [
         "41",
         "58",
         "0",
         "0",
         "1",
         "14.239",
         "drugB",
         "1"
        ],
        [
         "42",
         "50",
         "1",
         "2",
         "1",
         "15.79",
         "drugY",
         "4"
        ],
        [
         "43",
         "23",
         "1",
         "2",
         "0",
         "12.26",
         "drugX",
         "3"
        ],
        [
         "44",
         "50",
         "0",
         "2",
         "1",
         "12.295",
         "drugX",
         "3"
        ],
        [
         "45",
         "66",
         "0",
         "2",
         "1",
         "8.107",
         "drugX",
         "3"
        ],
        [
         "46",
         "37",
         "0",
         "0",
         "0",
         "13.091",
         "drugA",
         "0"
        ],
        [
         "47",
         "68",
         "1",
         "1",
         "0",
         "10.291",
         "drugC",
         "2"
        ],
        [
         "48",
         "23",
         "1",
         "2",
         "0",
         "31.686",
         "drugY",
         "4"
        ],
        [
         "49",
         "28",
         "0",
         "1",
         "0",
         "19.796",
         "drugY",
         "4"
        ]
       ],
       "shape": {
        "columns": 7,
        "rows": 200
       }
      },
      "text/html": [
       "<div>\n",
       "<style scoped>\n",
       "    .dataframe tbody tr th:only-of-type {\n",
       "        vertical-align: middle;\n",
       "    }\n",
       "\n",
       "    .dataframe tbody tr th {\n",
       "        vertical-align: top;\n",
       "    }\n",
       "\n",
       "    .dataframe thead th {\n",
       "        text-align: right;\n",
       "    }\n",
       "</style>\n",
       "<table border=\"1\" class=\"dataframe\">\n",
       "  <thead>\n",
       "    <tr style=\"text-align: right;\">\n",
       "      <th></th>\n",
       "      <th>Age</th>\n",
       "      <th>Sex</th>\n",
       "      <th>BP</th>\n",
       "      <th>Cholesterol</th>\n",
       "      <th>Na_to_K</th>\n",
       "      <th>Drug</th>\n",
       "      <th>Drug_num</th>\n",
       "    </tr>\n",
       "  </thead>\n",
       "  <tbody>\n",
       "    <tr>\n",
       "      <th>0</th>\n",
       "      <td>23</td>\n",
       "      <td>0</td>\n",
       "      <td>0</td>\n",
       "      <td>0</td>\n",
       "      <td>25.355</td>\n",
       "      <td>drugY</td>\n",
       "      <td>4</td>\n",
       "    </tr>\n",
       "    <tr>\n",
       "      <th>1</th>\n",
       "      <td>47</td>\n",
       "      <td>1</td>\n",
       "      <td>1</td>\n",
       "      <td>0</td>\n",
       "      <td>13.093</td>\n",
       "      <td>drugC</td>\n",
       "      <td>2</td>\n",
       "    </tr>\n",
       "    <tr>\n",
       "      <th>2</th>\n",
       "      <td>47</td>\n",
       "      <td>1</td>\n",
       "      <td>1</td>\n",
       "      <td>0</td>\n",
       "      <td>10.114</td>\n",
       "      <td>drugC</td>\n",
       "      <td>2</td>\n",
       "    </tr>\n",
       "    <tr>\n",
       "      <th>3</th>\n",
       "      <td>28</td>\n",
       "      <td>0</td>\n",
       "      <td>2</td>\n",
       "      <td>0</td>\n",
       "      <td>7.798</td>\n",
       "      <td>drugX</td>\n",
       "      <td>3</td>\n",
       "    </tr>\n",
       "    <tr>\n",
       "      <th>4</th>\n",
       "      <td>61</td>\n",
       "      <td>0</td>\n",
       "      <td>1</td>\n",
       "      <td>0</td>\n",
       "      <td>18.043</td>\n",
       "      <td>drugY</td>\n",
       "      <td>4</td>\n",
       "    </tr>\n",
       "    <tr>\n",
       "      <th>...</th>\n",
       "      <td>...</td>\n",
       "      <td>...</td>\n",
       "      <td>...</td>\n",
       "      <td>...</td>\n",
       "      <td>...</td>\n",
       "      <td>...</td>\n",
       "      <td>...</td>\n",
       "    </tr>\n",
       "    <tr>\n",
       "      <th>195</th>\n",
       "      <td>56</td>\n",
       "      <td>0</td>\n",
       "      <td>1</td>\n",
       "      <td>0</td>\n",
       "      <td>11.567</td>\n",
       "      <td>drugC</td>\n",
       "      <td>2</td>\n",
       "    </tr>\n",
       "    <tr>\n",
       "      <th>196</th>\n",
       "      <td>16</td>\n",
       "      <td>1</td>\n",
       "      <td>1</td>\n",
       "      <td>0</td>\n",
       "      <td>12.006</td>\n",
       "      <td>drugC</td>\n",
       "      <td>2</td>\n",
       "    </tr>\n",
       "    <tr>\n",
       "      <th>197</th>\n",
       "      <td>52</td>\n",
       "      <td>1</td>\n",
       "      <td>2</td>\n",
       "      <td>0</td>\n",
       "      <td>9.894</td>\n",
       "      <td>drugX</td>\n",
       "      <td>3</td>\n",
       "    </tr>\n",
       "    <tr>\n",
       "      <th>198</th>\n",
       "      <td>23</td>\n",
       "      <td>1</td>\n",
       "      <td>2</td>\n",
       "      <td>1</td>\n",
       "      <td>14.020</td>\n",
       "      <td>drugX</td>\n",
       "      <td>3</td>\n",
       "    </tr>\n",
       "    <tr>\n",
       "      <th>199</th>\n",
       "      <td>40</td>\n",
       "      <td>0</td>\n",
       "      <td>1</td>\n",
       "      <td>1</td>\n",
       "      <td>11.349</td>\n",
       "      <td>drugX</td>\n",
       "      <td>3</td>\n",
       "    </tr>\n",
       "  </tbody>\n",
       "</table>\n",
       "<p>200 rows × 7 columns</p>\n",
       "</div>"
      ],
      "text/plain": [
       "     Age  Sex  BP  Cholesterol  Na_to_K   Drug  Drug_num\n",
       "0     23    0   0            0   25.355  drugY         4\n",
       "1     47    1   1            0   13.093  drugC         2\n",
       "2     47    1   1            0   10.114  drugC         2\n",
       "3     28    0   2            0    7.798  drugX         3\n",
       "4     61    0   1            0   18.043  drugY         4\n",
       "..   ...  ...  ..          ...      ...    ...       ...\n",
       "195   56    0   1            0   11.567  drugC         2\n",
       "196   16    1   1            0   12.006  drugC         2\n",
       "197   52    1   2            0    9.894  drugX         3\n",
       "198   23    1   2            1   14.020  drugX         3\n",
       "199   40    0   1            1   11.349  drugX         3\n",
       "\n",
       "[200 rows x 7 columns]"
      ]
     },
     "execution_count": 18,
     "metadata": {},
     "output_type": "execute_result"
    }
   ],
   "source": [
    "custom_map = {'drugA':0,'drugB':1,'drugC':2,'drugX':3,'drugY':4}\n",
    "my_data['Drug_num'] = my_data['Drug'].map(custom_map)\n",
    "my_data"
   ]
  },
  {
   "cell_type": "markdown",
   "id": "1f9a9f60-a847-4bb2-92b6-67c591835e76",
   "metadata": {},
   "source": [
    "You can now use the __corr()__ function to find the correlation of the input variables with the target variable.\n",
    "\n",
    "#### Practice question\n",
    "Write the code to find the correlation of the input variables with the target variable and identify the features most significantly affecting the target.\n"
   ]
  },
  {
   "cell_type": "code",
   "execution_count": 19,
   "id": "a8b671e4-00d1-4073-af41-38dc24369c7f",
   "metadata": {},
   "outputs": [
    {
     "data": {
      "text/plain": [
       "Age           -0.004828\n",
       "Sex           -0.098573\n",
       "BP             0.372868\n",
       "Cholesterol    0.055629\n",
       "Na_to_K        0.589120\n",
       "Drug_num       1.000000\n",
       "Name: Drug_num, dtype: float64"
      ]
     },
     "execution_count": 19,
     "metadata": {},
     "output_type": "execute_result"
    }
   ],
   "source": [
    "drug_corr = my_data.drop('Drug', axis=1).corr()['Drug_num']\n",
    "drug_corr"
   ]
  },
  {
   "cell_type": "markdown",
   "id": "ef9cf610-2378-4465-8f20-085a37be3805",
   "metadata": {},
   "source": [
    "# your code here\n"
   ]
  },
  {
   "cell_type": "markdown",
   "id": "e2a8a2fa-80f4-420b-a86c-5cf14ec5ce0b",
   "metadata": {},
   "source": [
    "<details><summary>Click here for the solution</summary>\n",
    "\n",
    "```python\n",
    "my_data.drop('Drug',axis=1).corr()['Drug_num']\n",
    "```\n",
    "\n",
    "This shows that the drug recommendation is mostly correlated with the `Na_to_K` and `BP` features. \n",
    "\n",
    "</details>\n"
   ]
  },
  {
   "cell_type": "markdown",
   "id": "6cb82450-7057-476a-9857-f8b61402cbee",
   "metadata": {},
   "source": [
    "We can also understand the distribution of the dataset by plotting the count of the records with each drug recommendation. \n"
   ]
  },
  {
   "cell_type": "code",
   "execution_count": 20,
   "id": "993f0768-0cd7-4c56-84d9-77d7381bc504",
   "metadata": {},
   "outputs": [
    {
     "data": {
      "image/png": "[encoded data removed]",
      "text/plain": [
       "<Figure size 640x480 with 1 Axes>"
      ]
     },
     "metadata": {},
     "output_type": "display_data"
    }
   ],
   "source": [
    "category_counts = my_data['Drug'].value_counts()\n",
    "\n",
    "# Plot the count plot\n",
    "plt.bar(category_counts.index, category_counts.values, color='blue')\n",
    "plt.xlabel('Drug')\n",
    "plt.ylabel('Count')\n",
    "plt.title('Category Distribution')\n",
    "plt.xticks(rotation=45)  # Rotate labels for better readability if needed\n",
    "plt.show()"
   ]
  },
  {
   "cell_type": "markdown",
   "id": "dcc12cfa-ff96-4b35-9c96-672621f4ae17",
   "metadata": {},
   "source": [
    "This shows us the distribution of the different classes, clearly indicating that Drug X and Drug Y have many more records in comparison to the other 3.\n"
   ]
  },
  {
   "cell_type": "markdown",
   "id": "7710d7fe-aa98-4df0-80ce-22caae5d157a",
   "metadata": {},
   "source": [
    "## Modeling\n"
   ]
  },
  {
   "cell_type": "markdown",
   "id": "a104a756-6b03-409e-b005-9f87f8c1bb5d",
   "metadata": {},
   "source": [
    "For modeling this dataset with a Decision tree classifier, we first split the dataset into training and testing subsets. For this, we separate the target variable from the input variables.\n"
   ]
  },
  {
   "cell_type": "code",
   "execution_count": 21,
   "id": "6d110883-8470-44b4-a719-0946f3c9d1bc",
   "metadata": {},
   "outputs": [],
   "source": [
    "y = my_data['Drug']\n",
    "X = my_data.drop(['Drug','Drug_num'], axis=1)"
   ]
  },
  {
   "cell_type": "markdown",
   "id": "7aef0be5-9df2-4bd6-929c-02899c1f03df",
   "metadata": {},
   "source": [
    "Now, use the __train_test_split()__ function to separate the training data from the testing data. We can make use of 30% of the data for testing and the rest for training the Decision tree.\n"
   ]
  },
  {
   "cell_type": "code",
   "execution_count": 22,
   "id": "b2dccbb6-e194-4844-8380-e748b3d1ff62",
   "metadata": {},
   "outputs": [],
   "source": [
    "X_trainset, X_testset, y_trainset, y_testset = train_test_split(X, y, test_size=0.3, random_state=32)"
   ]
  },
  {
   "cell_type": "markdown",
   "id": "3fd9db3f-e4f5-44a9-805a-15fc31c05d61",
   "metadata": {},
   "source": [
    "You can now define the Decision tree classifier as __drugTree__ and train it with the training data. \n"
   ]
  },
  {
   "cell_type": "code",
   "execution_count": 23,
   "id": "74f22395-2099-49c5-a399-5f8444e740e2",
   "metadata": {},
   "outputs": [],
   "source": [
    "drugTree = DecisionTreeClassifier(criterion=\"entropy\", max_depth = 4)"
   ]
  },
  {
   "cell_type": "code",
   "execution_count": 24,
   "id": "6911d64e-d3f4-4f2b-9d09-6de6bfda8cd6",
   "metadata": {},
   "outputs": [
    {
     "data": {
      "text/html": [
       "<style>#sk-container-id-1 {\n",
       "  /* Definition of color scheme common for light and dark mode */\n",
       "  --sklearn-color-text: #000;\n",
       "  --sklearn-color-text-muted: #666;\n",
       "  --sklearn-color-line: gray;\n",
       "  /* Definition of color scheme for unfitted estimators */\n",
       "  --sklearn-color-unfitted-level-0: #fff5e6;\n",
       "  --sklearn-color-unfitted-level-1: #f6e4d2;\n",
       "  --sklearn-color-unfitted-level-2: #ffe0b3;\n",
       "  --sklearn-color-unfitted-level-3: chocolate;\n",
       "  /* Definition of color scheme for fitted estimators */\n",
       "  --sklearn-color-fitted-level-0: #f0f8ff;\n",
       "  --sklearn-color-fitted-level-1: #d4ebff;\n",
       "  --sklearn-color-fitted-level-2: #b3dbfd;\n",
       "  --sklearn-color-fitted-level-3: cornflowerblue;\n",
       "\n",
       "  /* Specific color for light theme */\n",
       "  --sklearn-color-text-on-default-background: var(--sg-text-color, var(--theme-code-foreground, var(--jp-content-font-color1, black)));\n",
       "  --sklearn-color-background: var(--sg-background-color, var(--theme-background, var(--jp-layout-color0, white)));\n",
       "  --sklearn-color-border-box: var(--sg-text-color, var(--theme-code-foreground, var(--jp-content-font-color1, black)));\n",
       "  --sklearn-color-icon: #696969;\n",
       "\n",
       "  @media (prefers-color-scheme: dark) {\n",
       "    /* Redefinition of color scheme for dark theme */\n",
       "    --sklearn-color-text-on-default-background: var(--sg-text-color, var(--theme-code-foreground, var(--jp-content-font-color1, white)));\n",
       "    --sklearn-color-background: var(--sg-background-color, var(--theme-background, var(--jp-layout-color0, #111)));\n",
       "    --sklearn-color-border-box: var(--sg-text-color, var(--theme-code-foreground, var(--jp-content-font-color1, white)));\n",
       "    --sklearn-color-icon: #878787;\n",
       "  }\n",
       "}\n",
       "\n",
       "#sk-container-id-1 {\n",
       "  color: var(--sklearn-color-text);\n",
       "}\n",
       "\n",
       "#sk-container-id-1 pre {\n",
       "  padding: 0;\n",
       "}\n",
       "\n",
       "#sk-container-id-1 input.sk-hidden--visually {\n",
       "  border: 0;\n",
       "  clip: rect(1px 1px 1px 1px);\n",
       "  clip: rect(1px, 1px, 1px, 1px);\n",
       "  height: 1px;\n",
       "  margin: -1px;\n",
       "  overflow: hidden;\n",
       "  padding: 0;\n",
       "  position: absolute;\n",
       "  width: 1px;\n",
       "}\n",
       "\n",
       "#sk-container-id-1 div.sk-dashed-wrapped {\n",
       "  border: 1px dashed var(--sklearn-color-line);\n",
       "  margin: 0 0.4em 0.5em 0.4em;\n",
       "  box-sizing: border-box;\n",
       "  padding-bottom: 0.4em;\n",
       "  background-color: var(--sklearn-color-background);\n",
       "}\n",
       "\n",
       "#sk-container-id-1 div.sk-container {\n",
       "  /* jupyter's `normalize.less` sets `[hidden] { display: none; }`\n",
       "     but bootstrap.min.css set `[hidden] { display: none !important; }`\n",
       "     so we also need the `!important` here to be able to override the\n",
       "     default hidden behavior on the sphinx rendered scikit-learn.org.\n",
       "     See: https://github.com/scikit-learn/scikit-learn/issues/21755 */\n",
       "  display: inline-block !important;\n",
       "  position: relative;\n",
       "}\n",
       "\n",
       "#sk-container-id-1 div.sk-text-repr-fallback {\n",
       "  display: none;\n",
       "}\n",
       "\n",
       "div.sk-parallel-item,\n",
       "div.sk-serial,\n",
       "div.sk-item {\n",
       "  /* draw centered vertical line to link estimators */\n",
       "  background-image: linear-gradient(var(--sklearn-color-text-on-default-background), var(--sklearn-color-text-on-default-background));\n",
       "  background-size: 2px 100%;\n",
       "  background-repeat: no-repeat;\n",
       "  background-position: center center;\n",
       "}\n",
       "\n",
       "/* Parallel-specific style estimator block */\n",
       "\n",
       "#sk-container-id-1 div.sk-parallel-item::after {\n",
       "  content: \"\";\n",
       "  width: 100%;\n",
       "  border-bottom: 2px solid var(--sklearn-color-text-on-default-background);\n",
       "  flex-grow: 1;\n",
       "}\n",
       "\n",
       "#sk-container-id-1 div.sk-parallel {\n",
       "  display: flex;\n",
       "  align-items: stretch;\n",
       "  justify-content: center;\n",
       "  background-color: var(--sklearn-color-background);\n",
       "  position: relative;\n",
       "}\n",
       "\n",
       "#sk-container-id-1 div.sk-parallel-item {\n",
       "  display: flex;\n",
       "  flex-direction: column;\n",
       "}\n",
       "\n",
       "#sk-container-id-1 div.sk-parallel-item:first-child::after {\n",
       "  align-self: flex-end;\n",
       "  width: 50%;\n",
       "}\n",
       "\n",
       "#sk-container-id-1 div.sk-parallel-item:last-child::after {\n",
       "  align-self: flex-start;\n",
       "  width: 50%;\n",
       "}\n",
       "\n",
       "#sk-container-id-1 div.sk-parallel-item:only-child::after {\n",
       "  width: 0;\n",
       "}\n",
       "\n",
       "/* Serial-specific style estimator block */\n",
       "\n",
       "#sk-container-id-1 div.sk-serial {\n",
       "  display: flex;\n",
       "  flex-direction: column;\n",
       "  align-items: center;\n",
       "  background-color: var(--sklearn-color-background);\n",
       "  padding-right: 1em;\n",
       "  padding-left: 1em;\n",
       "}\n",
       "\n",
       "\n",
       "/* Toggleable style: style used for estimator/Pipeline/ColumnTransformer box that is\n",
       "clickable and can be expanded/collapsed.\n",
       "- Pipeline and ColumnTransformer use this feature and define the default style\n",
       "- Estimators will overwrite some part of the style using the `sk-estimator` class\n",
       "*/\n",
       "\n",
       "/* Pipeline and ColumnTransformer style (default) */\n",
       "\n",
       "#sk-container-id-1 div.sk-toggleable {\n",
       "  /* Default theme specific background. It is overwritten whether we have a\n",
       "  specific estimator or a Pipeline/ColumnTransformer */\n",
       "  background-color: var(--sklearn-color-background);\n",
       "}\n",
       "\n",
       "/* Toggleable label */\n",
       "#sk-container-id-1 label.sk-toggleable__label {\n",
       "  cursor: pointer;\n",
       "  display: flex;\n",
       "  width: 100%;\n",
       "  margin-bottom: 0;\n",
       "  padding: 0.5em;\n",
       "  box-sizing: border-box;\n",
       "  text-align: center;\n",
       "  align-items: start;\n",
       "  justify-content: space-between;\n",
       "  gap: 0.5em;\n",
       "}\n",
       "\n",
       "#sk-container-id-1 label.sk-toggleable__label .caption {\n",
       "  font-size: 0.6rem;\n",
       "  font-weight: lighter;\n",
       "  color: var(--sklearn-color-text-muted);\n",
       "}\n",
       "\n",
       "#sk-container-id-1 label.sk-toggleable__label-arrow:before {\n",
       "  /* Arrow on the left of the label */\n",
       "  content: \"▸\";\n",
       "  float: left;\n",
       "  margin-right: 0.25em;\n",
       "  color: var(--sklearn-color-icon);\n",
       "}\n",
       "\n",
       "#sk-container-id-1 label.sk-toggleable__label-arrow:hover:before {\n",
       "  color: var(--sklearn-color-text);\n",
       "}\n",
       "\n",
       "/* Toggleable content - dropdown */\n",
       "\n",
       "#sk-container-id-1 div.sk-toggleable__content {\n",
       "  max-height: 0;\n",
       "  max-width: 0;\n",
       "  overflow: hidden;\n",
       "  text-align: left;\n",
       "  /* unfitted */\n",
       "  background-color: var(--sklearn-color-unfitted-level-0);\n",
       "}\n",
       "\n",
       "#sk-container-id-1 div.sk-toggleable__content.fitted {\n",
       "  /* fitted */\n",
       "  background-color: var(--sklearn-color-fitted-level-0);\n",
       "}\n",
       "\n",
       "#sk-container-id-1 div.sk-toggleable__content pre {\n",
       "  margin: 0.2em;\n",
       "  border-radius: 0.25em;\n",
       "  color: var(--sklearn-color-text);\n",
       "  /* unfitted */\n",
       "  background-color: var(--sklearn-color-unfitted-level-0);\n",
       "}\n",
       "\n",
       "#sk-container-id-1 div.sk-toggleable__content.fitted pre {\n",
       "  /* unfitted */\n",
       "  background-color: var(--sklearn-color-fitted-level-0);\n",
       "}\n",
       "\n",
       "#sk-container-id-1 input.sk-toggleable__control:checked~div.sk-toggleable__content {\n",
       "  /* Expand drop-down */\n",
       "  max-height: 200px;\n",
       "  max-width: 100%;\n",
       "  overflow: auto;\n",
       "}\n",
       "\n",
       "#sk-container-id-1 input.sk-toggleable__control:checked~label.sk-toggleable__label-arrow:before {\n",
       "  content: \"▾\";\n",
       "}\n",
       "\n",
       "/* Pipeline/ColumnTransformer-specific style */\n",
       "\n",
       "#sk-container-id-1 div.sk-label input.sk-toggleable__control:checked~label.sk-toggleable__label {\n",
       "  color: var(--sklearn-color-text);\n",
       "  background-color: var(--sklearn-color-unfitted-level-2);\n",
       "}\n",
       "\n",
       "#sk-container-id-1 div.sk-label.fitted input.sk-toggleable__control:checked~label.sk-toggleable__label {\n",
       "  background-color: var(--sklearn-color-fitted-level-2);\n",
       "}\n",
       "\n",
       "/* Estimator-specific style */\n",
       "\n",
       "/* Colorize estimator box */\n",
       "#sk-container-id-1 div.sk-estimator input.sk-toggleable__control:checked~label.sk-toggleable__label {\n",
       "  /* unfitted */\n",
       "  background-color: var(--sklearn-color-unfitted-level-2);\n",
       "}\n",
       "\n",
       "#sk-container-id-1 div.sk-estimator.fitted input.sk-toggleable__control:checked~label.sk-toggleable__label {\n",
       "  /* fitted */\n",
       "  background-color: var(--sklearn-color-fitted-level-2);\n",
       "}\n",
       "\n",
       "#sk-container-id-1 div.sk-label label.sk-toggleable__label,\n",
       "#sk-container-id-1 div.sk-label label {\n",
       "  /* The background is the default theme color */\n",
       "  color: var(--sklearn-color-text-on-default-background);\n",
       "}\n",
       "\n",
       "/* On hover, darken the color of the background */\n",
       "#sk-container-id-1 div.sk-label:hover label.sk-toggleable__label {\n",
       "  color: var(--sklearn-color-text);\n",
       "  background-color: var(--sklearn-color-unfitted-level-2);\n",
       "}\n",
       "\n",
       "/* Label box, darken color on hover, fitted */\n",
       "#sk-container-id-1 div.sk-label.fitted:hover label.sk-toggleable__label.fitted {\n",
       "  color: var(--sklearn-color-text);\n",
       "  background-color: var(--sklearn-color-fitted-level-2);\n",
       "}\n",
       "\n",
       "/* Estimator label */\n",
       "\n",
       "#sk-container-id-1 div.sk-label label {\n",
       "  font-family: monospace;\n",
       "  font-weight: bold;\n",
       "  display: inline-block;\n",
       "  line-height: 1.2em;\n",
       "}\n",
       "\n",
       "#sk-container-id-1 div.sk-label-container {\n",
       "  text-align: center;\n",
       "}\n",
       "\n",
       "/* Estimator-specific */\n",
       "#sk-container-id-1 div.sk-estimator {\n",
       "  font-family: monospace;\n",
       "  border: 1px dotted var(--sklearn-color-border-box);\n",
       "  border-radius: 0.25em;\n",
       "  box-sizing: border-box;\n",
       "  margin-bottom: 0.5em;\n",
       "  /* unfitted */\n",
       "  background-color: var(--sklearn-color-unfitted-level-0);\n",
       "}\n",
       "\n",
       "#sk-container-id-1 div.sk-estimator.fitted {\n",
       "  /* fitted */\n",
       "  background-color: var(--sklearn-color-fitted-level-0);\n",
       "}\n",
       "\n",
       "/* on hover */\n",
       "#sk-container-id-1 div.sk-estimator:hover {\n",
       "  /* unfitted */\n",
       "  background-color: var(--sklearn-color-unfitted-level-2);\n",
       "}\n",
       "\n",
       "#sk-container-id-1 div.sk-estimator.fitted:hover {\n",
       "  /* fitted */\n",
       "  background-color: var(--sklearn-color-fitted-level-2);\n",
       "}\n",
       "\n",
       "/* Specification for estimator info (e.g. \"i\" and \"?\") */\n",
       "\n",
       "/* Common style for \"i\" and \"?\" */\n",
       "\n",
       ".sk-estimator-doc-link,\n",
       "a:link.sk-estimator-doc-link,\n",
       "a:visited.sk-estimator-doc-link {\n",
       "  float: right;\n",
       "  font-size: smaller;\n",
       "  line-height: 1em;\n",
       "  font-family: monospace;\n",
       "  background-color: var(--sklearn-color-background);\n",
       "  border-radius: 1em;\n",
       "  height: 1em;\n",
       "  width: 1em;\n",
       "  text-decoration: none !important;\n",
       "  margin-left: 0.5em;\n",
       "  text-align: center;\n",
       "  /* unfitted */\n",
       "  border: var(--sklearn-color-unfitted-level-1) 1pt solid;\n",
       "  color: var(--sklearn-color-unfitted-level-1);\n",
       "}\n",
       "\n",
       ".sk-estimator-doc-link.fitted,\n",
       "a:link.sk-estimator-doc-link.fitted,\n",
       "a:visited.sk-estimator-doc-link.fitted {\n",
       "  /* fitted */\n",
       "  border: var(--sklearn-color-fitted-level-1) 1pt solid;\n",
       "  color: var(--sklearn-color-fitted-level-1);\n",
       "}\n",
       "\n",
       "/* On hover */\n",
       "div.sk-estimator:hover .sk-estimator-doc-link:hover,\n",
       ".sk-estimator-doc-link:hover,\n",
       "div.sk-label-container:hover .sk-estimator-doc-link:hover,\n",
       ".sk-estimator-doc-link:hover {\n",
       "  /* unfitted */\n",
       "  background-color: var(--sklearn-color-unfitted-level-3);\n",
       "  color: var(--sklearn-color-background);\n",
       "  text-decoration: none;\n",
       "}\n",
       "\n",
       "div.sk-estimator.fitted:hover .sk-estimator-doc-link.fitted:hover,\n",
       ".sk-estimator-doc-link.fitted:hover,\n",
       "div.sk-label-container:hover .sk-estimator-doc-link.fitted:hover,\n",
       ".sk-estimator-doc-link.fitted:hover {\n",
       "  /* fitted */\n",
       "  background-color: var(--sklearn-color-fitted-level-3);\n",
       "  color: var(--sklearn-color-background);\n",
       "  text-decoration: none;\n",
       "}\n",
       "\n",
       "/* Span, style for the box shown on hovering the info icon */\n",
       ".sk-estimator-doc-link span {\n",
       "  display: none;\n",
       "  z-index: 9999;\n",
       "  position: relative;\n",
       "  font-weight: normal;\n",
       "  right: .2ex;\n",
       "  padding: .5ex;\n",
       "  margin: .5ex;\n",
       "  width: min-content;\n",
       "  min-width: 20ex;\n",
       "  max-width: 50ex;\n",
       "  color: var(--sklearn-color-text);\n",
       "  box-shadow: 2pt 2pt 4pt #999;\n",
       "  /* unfitted */\n",
       "  background: var(--sklearn-color-unfitted-level-0);\n",
       "  border: .5pt solid var(--sklearn-color-unfitted-level-3);\n",
       "}\n",
       "\n",
       ".sk-estimator-doc-link.fitted span {\n",
       "  /* fitted */\n",
       "  background: var(--sklearn-color-fitted-level-0);\n",
       "  border: var(--sklearn-color-fitted-level-3);\n",
       "}\n",
       "\n",
       ".sk-estimator-doc-link:hover span {\n",
       "  display: block;\n",
       "}\n",
       "\n",
       "/* \"?\"-specific style due to the `<a>` HTML tag */\n",
       "\n",
       "#sk-container-id-1 a.estimator_doc_link {\n",
       "  float: right;\n",
       "  font-size: 1rem;\n",
       "  line-height: 1em;\n",
       "  font-family: monospace;\n",
       "  background-color: var(--sklearn-color-background);\n",
       "  border-radius: 1rem;\n",
       "  height: 1rem;\n",
       "  width: 1rem;\n",
       "  text-decoration: none;\n",
       "  /* unfitted */\n",
       "  color: var(--sklearn-color-unfitted-level-1);\n",
       "  border: var(--sklearn-color-unfitted-level-1) 1pt solid;\n",
       "}\n",
       "\n",
       "#sk-container-id-1 a.estimator_doc_link.fitted {\n",
       "  /* fitted */\n",
       "  border: var(--sklearn-color-fitted-level-1) 1pt solid;\n",
       "  color: var(--sklearn-color-fitted-level-1);\n",
       "}\n",
       "\n",
       "/* On hover */\n",
       "#sk-container-id-1 a.estimator_doc_link:hover {\n",
       "  /* unfitted */\n",
       "  background-color: var(--sklearn-color-unfitted-level-3);\n",
       "  color: var(--sklearn-color-background);\n",
       "  text-decoration: none;\n",
       "}\n",
       "\n",
       "#sk-container-id-1 a.estimator_doc_link.fitted:hover {\n",
       "  /* fitted */\n",
       "  background-color: var(--sklearn-color-fitted-level-3);\n",
       "}\n",
       "</style><div id=\"sk-container-id-1\" class=\"sk-top-container\"><div class=\"sk-text-repr-fallback\"><pre>DecisionTreeClassifier(criterion=&#x27;entropy&#x27;, max_depth=4)</pre><b>In a Jupyter environment, please rerun this cell to show the HTML representation or trust the notebook. <br />On GitHub, the HTML representation is unable to render, please try loading this page with nbviewer.org.</b></div><div class=\"sk-container\" hidden><div class=\"sk-item\"><div class=\"sk-estimator fitted sk-toggleable\"><input class=\"sk-toggleable__control sk-hidden--visually\" id=\"sk-estimator-id-1\" type=\"checkbox\" checked><label for=\"sk-estimator-id-1\" class=\"sk-toggleable__label fitted sk-toggleable__label-arrow\"><div><div>DecisionTreeClassifier</div></div><div><a class=\"sk-estimator-doc-link fitted\" rel=\"noreferrer\" target=\"_blank\" href=\"https://scikit-learn.org/1.6/modules/generated/sklearn.tree.DecisionTreeClassifier.html\">?<span>Documentation for DecisionTreeClassifier</span></a><span class=\"sk-estimator-doc-link fitted\">i<span>Fitted</span></span></div></label><div class=\"sk-toggleable__content fitted\"><pre>DecisionTreeClassifier(criterion=&#x27;entropy&#x27;, max_depth=4)</pre></div> </div></div></div></div>"
      ],
      "text/plain": [
       "DecisionTreeClassifier(criterion='entropy', max_depth=4)"
      ]
     },
     "execution_count": 24,
     "metadata": {},
     "output_type": "execute_result"
    }
   ],
   "source": [
    "drugTree.fit(X_trainset,y_trainset)"
   ]
  },
  {
   "cell_type": "markdown",
   "id": "0551a430-3e32-43f2-ba7a-b7eb691350ac",
   "metadata": {},
   "source": [
    "### Evaluation\n"
   ]
  },
  {
   "cell_type": "markdown",
   "id": "bbab43b6-c29d-4e32-90a8-a16c8be3ca8c",
   "metadata": {},
   "source": [
    "Now that you have trained the decision tree, we can use it to generate the predictions on the test set.\n"
   ]
  },
  {
   "cell_type": "code",
   "execution_count": 25,
   "id": "69754a9f-a087-4981-8901-f5b5730cc2fc",
   "metadata": {},
   "outputs": [],
   "source": [
    "tree_predictions = drugTree.predict(X_testset)"
   ]
  },
  {
   "cell_type": "markdown",
   "id": "27c59ee6-a50f-4c93-8b1f-d06b77c23e33",
   "metadata": {},
   "source": [
    "We can now check the accuracy of our model by using the accuracy metric.\n"
   ]
  },
  {
   "cell_type": "code",
   "execution_count": 26,
   "id": "e96ed5d8-1396-4f0f-be23-684e344ddc39",
   "metadata": {},
   "outputs": [
    {
     "name": "stdout",
     "output_type": "stream",
     "text": [
      "Decision Trees's Accuracy:  0.9833333333333333\n"
     ]
    }
   ],
   "source": [
    "print(\"Decision Trees's Accuracy: \", metrics.accuracy_score(y_testset, tree_predictions))"
   ]
  },
  {
   "cell_type": "markdown",
   "id": "ba946f24-9573-40c3-b44c-0873636ad4d5",
   "metadata": {},
   "source": [
    "This means that the model was able to correctly identify the labels of 98.33%, i.e. 59 out of 60 test samples. \n"
   ]
  },
  {
   "cell_type": "markdown",
   "id": "22f42ef4-4079-4055-a2d9-7a62bbf007c3",
   "metadata": {},
   "source": [
    "### Visualize the tree\n",
    "\n",
    "To understand the classification criteria derived by the Decision Tree, we may generate the tree plot.\n"
   ]
  },
  {
   "cell_type": "code",
   "execution_count": 27,
   "id": "e90860f0-09af-44cc-94a8-339ee9dc9a1d",
   "metadata": {},
   "outputs": [
    {
     "data": {
      "image/png": "[encoded data removed]",
      "text/plain": [
       "<Figure size 640x480 with 1 Axes>"
      ]
     },
     "metadata": {},
     "output_type": "display_data"
    }
   ],
   "source": [
    "plot_tree(drugTree)\n",
    "plt.show()"
   ]
  },
  {
   "cell_type": "markdown",
   "id": "0ada1b69-c86c-47cb-afc4-37369ece3ff5",
   "metadata": {},
   "source": [
    "From this tree, we can derive the criteria developed by the model to identify the class of each training sample. We can interpret them by tracing the criteria defined by tracing down from the root to the tree's leaf nodes.\n",
    "\n",
    "For instance, the decision criterion for Drug Y is ${Na\\_to\\_K} \\gt 14.627$.\n",
    "\n",
    "#### Practice Question:\n",
    "Along similar lines, identify the decision criteria for all other classes.\n"
   ]
  },
  {
   "cell_type": "markdown",
   "id": "0bbf270d-b3e9-4f96-b34f-20f4f45fcf8a",
   "metadata": {},
   "source": [
    "<details><summary>Click here for the solution</summary>\n",
    "Drug A : $Na\\_to\\_K <= 14.627, BP = High, Age <= 50.5$<br>\n",
    "Drug B : $Na\\_to\\_K <= 14.627, BP = High, Age > 50.5$ <br>\n",
    "Drug C : $Na\\_to\\_K <= 14.627, BP = Normal, Cholesterol = High$<br>\n",
    "Drug X : $Na\\_to\\_K <= 14.627, (BP = Low, Cholesterol = High) or (BP = Normal/Low, Cholesterol = Normal)$\n",
    "</details>\n"
   ]
  },
  {
   "cell_type": "markdown",
   "id": "0939f1d0-7454-4270-adc6-ae72b33ec3b5",
   "metadata": {},
   "source": [
    "#### Practice Question:\n",
    "\n",
    "If the max depth of the tree is reduced to 3, how would the performance of the model be affected?\n"
   ]
  },
  {
   "cell_type": "code",
   "execution_count": 28,
   "id": "d1aa3a47-21ac-4219-b332-c1f8a1c41175",
   "metadata": {},
   "outputs": [
    {
     "name": "stdout",
     "output_type": "stream",
     "text": [
      "Decision Trees's Accuracy:  0.8166666666666667\n"
     ]
    },
    {
     "data": {
      "text/plain": [
       "[Text(0.625, 0.875, 'x[4] <= 14.627\\nentropy = 1.981\\nsamples = 140\\nvalue = [15, 11, 13, 38, 63]'),\n",
       " Text(0.5, 0.625, 'x[2] <= 0.5\\nentropy = 1.797\\nsamples = 77\\nvalue = [15, 11, 13, 38, 0]'),\n",
       " Text(0.5625, 0.75, 'True  '),\n",
       " Text(0.25, 0.375, 'x[0] <= 50.5\\nentropy = 0.983\\nsamples = 26\\nvalue = [15.0, 11.0, 0.0, 0.0, 0.0]'),\n",
       " Text(0.125, 0.125, 'entropy = 0.0\\nsamples = 15\\nvalue = [15, 0, 0, 0, 0]'),\n",
       " Text(0.375, 0.125, 'entropy = 0.0\\nsamples = 11\\nvalue = [0, 11, 0, 0, 0]'),\n",
       " Text(0.75, 0.375, 'x[3] <= 0.5\\nentropy = 0.819\\nsamples = 51\\nvalue = [0, 0, 13, 38, 0]'),\n",
       " Text(0.625, 0.125, 'entropy = 0.988\\nsamples = 23\\nvalue = [0.0, 0.0, 13.0, 10.0, 0.0]'),\n",
       " Text(0.875, 0.125, 'entropy = 0.0\\nsamples = 28\\nvalue = [0, 0, 0, 28, 0]'),\n",
       " Text(0.75, 0.625, 'entropy = 0.0\\nsamples = 63\\nvalue = [0, 0, 0, 0, 63]'),\n",
       " Text(0.6875, 0.75, '  False')]"
      ]
     },
     "execution_count": 28,
     "metadata": {},
     "output_type": "execute_result"
    },
    {
     "data": {
      "image/png": "[encoded data removed]",
      "text/plain": [
       "<Figure size 640x480 with 1 Axes>"
      ]
     },
     "metadata": {},
     "output_type": "display_data"
    }
   ],
   "source": [
    "# your code here\n",
    "drugTree = DecisionTreeClassifier(criterion=\"entropy\", max_depth = 3)\n",
    "drugTree.fit(X_trainset,y_trainset)\n",
    "tree_predictions = drugTree.predict(X_testset)\n",
    "print(\"Decision Trees's Accuracy: \", metrics.accuracy_score(y_testset, tree_predictions))\n",
    "plot_tree(drugTree)"
   ]
  },
  {
   "cell_type": "markdown",
   "id": "60423afb-9258-4500-99f0-ef5da469dfd1",
   "metadata": {},
   "source": [
    "<details><summary>Click here for the solution</summary>\n",
    "\n",
    "```python\n",
    "drugTree = DecisionTreeClassifier(criterion=\"entropy\", max_depth = 3)\n",
    "drugTree.fit(X_trainset,y_trainset)\n",
    "tree_predictions = drugTree.predict(X_testset)\n",
    "print(\"Decision Trees's Accuracy: \", metrics.accuracy_score(y_testset, tree_predictions))\n",
    "```\n",
    "\n",
    "</details>\n"
   ]
  },
  {
   "cell_type": "markdown",
   "id": "9a2fd8ec-c049-4a2a-9265-2b4764f7c21c",
   "metadata": {},
   "source": [
    "### Congratulations! You're ready to move on to your next lesson!\n",
    "\n",
    "## Author\n",
    "<a href=\"https://www.linkedin.com/in/abhishek-gagneja-23051987/\" target=\"_blank\">Abhishek Gagneja</a>\n",
    "### Other Contributors\n",
    "<a href=\"https://www.linkedin.com/in/jpgrossman/\" target=\"_blank\">Jeff Grossman</a>  \n",
    " \n",
    "<h3 align=\"center\"> © IBM Corporation. All rights reserved. <h3/>\n",
    "\n",
    " \n",
    "<!--\n",
    "## Change Log\n",
    " \n",
    " \n",
    "|  Date (YYYY-MM-DD) |  Version       | Changed By     | Change Description                  |\n",
    "|---|---|---|---|\n",
    "| 2024-10-31         | 3.0            | Abhishek Gagneja  | Rewrite                             |\n",
    "| 2020-11-03         | 2.1            | Lakshmi        | Made changes in URL                 |\n",
    "| 2020-11-03         | 2.1            | Lakshmi        | Made changes in URL                 |\n",
    "| 2020-08-27         | 2.0            | Lavanya        | Moved lab to course repo in GitLab  |\n",
    "|   |   |   |   |\n"
   ]
  }
 ],
 "metadata": {
  "kernelspec": {
   "display_name": "Python313",
   "language": "python",
   "name": "python3"
  },
  "language_info": {
   "codemirror_mode": {
    "name": "ipython",
    "version": 3
   },
   "file_extension": ".py",
   "mimetype": "text/x-python",
   "name": "python",
   "nbconvert_exporter": "python",
   "pygments_lexer": "ipython3",
   "version": "3.13.2"
  },
  "prev_pub_hash": "41b4f2c291210d0446375553d24b704e6c232958f424338f4b4ba975db1d761e"
 },
 "nbformat": 4,
 "nbformat_minor": 4
}
